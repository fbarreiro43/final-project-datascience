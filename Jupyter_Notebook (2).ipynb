{
 "cells": [
  {
   "cell_type": "markdown",
   "metadata": {},
   "source": [
    "<center>\n",
    "    <img src=\"https://cf-courses-data.s3.us.cloud-object-storage.appdomain.cloud/IBMDeveloperSkillsNetwork-DS0105EN-SkillsNetwork/labs/Module2/images/SN_web_lightmode.png\" width=\"300\" alt=\"cognitiveclass.ai logo\">\n",
    "</center>\n"
   ]
  },
  {
   "cell_type": "markdown",
   "metadata": {},
   "source": [
    "#### Add your code below following the instructions given in the course\n"
   ]
  },
  {
   "cell_type": "markdown",
   "metadata": {},
   "source": [
    "# Proyecto Final - Curso de Ciencia de Datos"
   ]
  },
  {
   "cell_type": "markdown",
   "metadata": {},
   "source": [
    "## Introducción\n",
    "\n",
    "Este cuaderno forma parte del proyecto final del curso de Ciencia de Datos. Aquí se presentan conceptos fundamentales como lenguajes y bibliotecas utilizadas en la ciencia de datos, herramientas populares, operaciones básicas en Python y más.\n"
   ]
  },
  {
   "cell_type": "markdown",
   "metadata": {},
   "source": [
    "## Lenguajes de Ciencia de Datos\n",
    "\n",
    "Los lenguajes más utilizados en la ciencia de datos incluyen:\n",
    "\n",
    "- Python\n",
    "- R\n",
    "- SQL\n",
    "- Julia\n",
    "- Scala\n"
   ]
  },
  {
   "cell_type": "markdown",
   "metadata": {},
   "source": [
    "## Bibliotecas de Ciencia de Datos\n",
    "\n",
    "Algunas bibliotecas populares en ciencia de datos son:\n",
    "\n",
    "- **Pandas**: para manipulación y análisis de datos.\n",
    "- **NumPy**: para cálculos numéricos y manejo de arrays.\n",
    "- **Matplotlib**: para visualización de datos en gráficos.\n",
    "- **Seaborn**: para visualización estadística.\n",
    "- **Scikit-learn**: para aprendizaje automático.\n"
   ]
  },
  {
   "cell_type": "markdown",
   "metadata": {},
   "source": [
    "## Herramientas de Ciencia de Datos\n",
    "\n",
    "| Herramienta         | Descripción                                       |\n",
    "|---------------------|---------------------------------------------------|\n",
    "| Jupyter Notebook    | Entorno interactivo para escribir y ejecutar código |\n",
    "| RStudio             | Entorno para trabajar con el lenguaje R           |\n",
    "| GitHub              | Plataforma para control de versiones y colaboración |\n",
    "| VS Code             | Editor de código fuente con muchas extensiones    |\n",
    "| Watson Studio       | Plataforma de IBM para ciencia de datos           |\n"
   ]
  },
  {
   "cell_type": "markdown",
   "metadata": {},
   "source": [
    "## Ejemplos de Expresiones Aritméticas\n",
    "\n",
    "A continuación, algunos ejemplos básicos:\n",
    "\n",
    "- Suma: `3 + 5`\n",
    "- Resta: `10 - 4`\n",
    "- Multiplicación: `7 * 2`\n",
    "- División: `20 / 4`\n",
    "- Exponente: `2 ** 3` (2 elevado a 3)\n",
    "- Módulo (resto de división): `10 % 3`\n"
   ]
  },
  {
   "cell_type": "code",
   "execution_count": 1,
   "metadata": {},
   "outputs": [
    {
     "name": "stdout",
     "output_type": "stream",
     "text": [
      "La suma es: 8\n",
      "La multiplicación es: 15\n"
     ]
    }
   ],
   "source": [
    "# Multiplicación y suma\n",
    "a = 5\n",
    "b = 3\n",
    "suma = a + b\n",
    "multiplicacion = a * b\n",
    "\n",
    "print(\"La suma es:\", suma)\n",
    "print(\"La multiplicación es:\", multiplicacion)\n"
   ]
  },
  {
   "cell_type": "code",
   "execution_count": 2,
   "metadata": {},
   "outputs": [
    {
     "name": "stdout",
     "output_type": "stream",
     "text": [
      "150 minutos son 2.50 horas\n"
     ]
    }
   ],
   "source": [
    "# Conversión de minutos a horas\n",
    "minutos = 150\n",
    "horas = minutos / 60\n",
    "\n",
    "print(f\"{minutos} minutos son {horas:.2f} horas\")\n"
   ]
  },
  {
   "cell_type": "code",
   "execution_count": 3,
   "metadata": {},
   "outputs": [
    {
     "name": "stdout",
     "output_type": "stream",
     "text": [
      "1. Practicar el uso de celdas Markdown\n",
      "2. Ejecutar celdas de código en JupyterLite\n",
      "3. Usar expresiones aritméticas básicas en Python\n",
      "4. Compartir un notebook en GitHub\n"
     ]
    }
   ],
   "source": [
    "# Lista de objetivos de este notebook\n",
    "objetivos = [\n",
    "    \"Practicar el uso de celdas Markdown\",\n",
    "    \"Ejecutar celdas de código en JupyterLite\",\n",
    "    \"Usar expresiones aritméticas básicas en Python\",\n",
    "    \"Compartir un notebook en GitHub\"\n",
    "]\n",
    "\n",
    "for i, objetivo in enumerate(objetivos, start=1):\n",
    "    print(f\"{i}. {objetivo}\")\n"
   ]
  },
  {
   "cell_type": "markdown",
   "metadata": {},
   "source": [
    "**Autor:** Florencia Barreiro\n"
   ]
  },
  {
   "cell_type": "code",
   "execution_count": null,
   "metadata": {},
   "outputs": [],
   "source": []
  }
 ],
 "metadata": {
  "kernelspec": {
   "display_name": "Python 3 (ipykernel)",
   "language": "python",
   "name": "python3"
  },
  "language_info": {
   "codemirror_mode": {
    "name": "ipython",
    "version": 3
   },
   "file_extension": ".py",
   "mimetype": "text/x-python",
   "name": "python",
   "nbconvert_exporter": "python",
   "pygments_lexer": "ipython3",
   "version": "3.12.8"
  }
 },
 "nbformat": 4,
 "nbformat_minor": 4
}
