{
 "cells": [
  {
   "cell_type": "markdown",
   "metadata": {},
   "source": [
    "<center>\n",
    "    <img src=\"https://cf-courses-data.s3.us.cloud-object-storage.appdomain.cloud/IBMDeveloperSkillsNetwork-DS0105EN-SkillsNetwork/labs/Module2/images/SN_web_lightmode.png\" width=\"300\" alt=\"cognitiveclass.ai logo\">\n",
    "</center>\n"
   ]
  },
  {
   "cell_type": "markdown",
   "metadata": {},
   "source": [
    "#### Add your code below following the instructions given in the course\n"
   ]
  },
  {
   "cell_type": "markdown",
   "metadata": {},
   "source": [
    "# Final Project – Data Science Course\n"
   ]
  },
  {
   "cell_type": "markdown",
   "metadata": {},
   "source": [
    "## Introduction\n",
    "\n",
    "This notebook is part of the final project for the Data Science course. It presents fundamental concepts such as commonly used programming languages and libraries in data science, popular tools, basic operations in Python, and more.\n"
   ]
  },
  {
   "cell_type": "markdown",
   "metadata": {},
   "source": [
    "## Data Science Languages\n",
    "\n",
    "Here is a list of some commonly used programming languages in data science:\n",
    "\n",
    "1. Python  \n",
    "2. R  \n",
    "3. SQL  \n",
    "4. Java  \n",
    "5. Julia\n"
   ]
  },
  {
   "cell_type": "markdown",
   "metadata": {},
   "source": [
    "## Data Science Libraries\n",
    "\n",
    "Some popular data science libraries include:\n",
    "\n",
    "1. Pandas  \n",
    "2. NumPy  \n",
    "3. Matplotlib  \n",
    "4. Scikit-learn  \n",
    "5. TensorFlow\n"
   ]
  },
  {
   "cell_type": "markdown",
   "metadata": {},
   "source": [
    "## Data Science Tools\n",
    "\n",
    "| Tool            | Category          |\n",
    "|-----------------|-------------------|\n",
    "| Jupyter Notebook| IDE/Notebook       |\n",
    "| RStudio         | IDE               |\n",
    "| Apache Spark    | Big Data Processing |\n",
    "| TensorFlow      | Machine Learning   |\n",
    "| VS Code         | Code Editor        |\n"
   ]
  },
  {
   "cell_type": "markdown",
   "metadata": {},
   "source": [
    "## Arithmetic Expressions\n",
    "\n",
    "In Python, you can perform arithmetic operations such as addition, subtraction, multiplication, and division. Here are a few examples of arithmetic expressions:\n",
    "\n",
    "* 3 + 5\n",
    "* 10 - 2\n",
    "* 4 * 6\n",
    "* 20 / 4\n",
    "* (2 + 3) * 5\n"
   ]
  },
  {
   "cell_type": "code",
   "execution_count": 4,
   "metadata": {},
   "outputs": [
    {
     "name": "stdout",
     "output_type": "stream",
     "text": [
      "The sum is: 8\n",
      "The multiplication is: 15\n"
     ]
    }
   ],
   "source": [
    "# Multiplication and Addition\n",
    "a = 5\n",
    "b = 3\n",
    "sum_result = a + b\n",
    "multiplication_result = a * b\n",
    "\n",
    "print(\"The sum is:\", sum_result)\n",
    "print(\"The multiplication is:\", multiplication_result)\n"
   ]
  },
  {
   "cell_type": "code",
   "execution_count": 5,
   "metadata": {},
   "outputs": [
    {
     "name": "stdout",
     "output_type": "stream",
     "text": [
      "150 minutes are 2.50 hours\n"
     ]
    }
   ],
   "source": [
    "# Conversion from minutes to hours\n",
    "minutes = 150\n",
    "hours = minutes / 60\n",
    "\n",
    "print(f\"{minutes} minutes are {hours:.2f} hours\")\n"
   ]
  },
  {
   "cell_type": "code",
   "execution_count": null,
   "metadata": {},
   "outputs": [],
   "source": []
  },
  {
   "cell_type": "code",
   "execution_count": 3,
   "metadata": {},
   "outputs": [
    {
     "name": "stdout",
     "output_type": "stream",
     "text": [
      "1. Practicar el uso de celdas Markdown\n",
      "2. Ejecutar celdas de código en JupyterLite\n",
      "3. Usar expresiones aritméticas básicas en Python\n",
      "4. Compartir un notebook en GitHub\n"
     ]
    }
   ],
   "source": [
    "# Lista de objetivos de este notebook\n",
    "objetivos = [\n",
    "    \"Practicar el uso de celdas Markdown\",\n",
    "    \"Ejecutar celdas de código en JupyterLite\",\n",
    "    \"Usar expresiones aritméticas básicas en Python\",\n",
    "    \"Compartir un notebook en GitHub\"\n",
    "]\n",
    "\n",
    "for i, objetivo in enumerate(objetivos, start=1):\n",
    "    print(f\"{i}. {objetivo}\")\n"
   ]
  },
  {
   "cell_type": "markdown",
   "metadata": {},
   "source": [
    "**Autor:** Florencia Barreiro\n"
   ]
  },
  {
   "cell_type": "code",
   "execution_count": null,
   "metadata": {},
   "outputs": [],
   "source": []
  }
 ],
 "metadata": {
  "kernelspec": {
   "display_name": "Python 3 (ipykernel)",
   "language": "python",
   "name": "python3"
  },
  "language_info": {
   "codemirror_mode": {
    "name": "ipython",
    "version": 3
   },
   "file_extension": ".py",
   "mimetype": "text/x-python",
   "name": "python",
   "nbconvert_exporter": "python",
   "pygments_lexer": "ipython3",
   "version": "3.12.8"
  }
 },
 "nbformat": 4,
 "nbformat_minor": 4
}
